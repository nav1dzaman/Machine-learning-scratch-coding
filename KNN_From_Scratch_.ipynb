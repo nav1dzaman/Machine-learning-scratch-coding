{
  "nbformat": 4,
  "nbformat_minor": 0,
  "metadata": {
    "colab": {
      "provenance": []
    },
    "kernelspec": {
      "name": "python3",
      "display_name": "Python 3"
    },
    "language_info": {
      "name": "python"
    }
  },
  "cells": [
    {
      "cell_type": "code",
      "source": [
        "from google.colab import drive\n",
        "drive.mount('/content/drive')"
      ],
      "metadata": {
        "colab": {
          "base_uri": "https://localhost:8080/"
        },
        "id": "Zj9gKvftkYZq",
        "outputId": "5cb075fa-2ce7-4fdd-a290-bcbd519d4379"
      },
      "execution_count": null,
      "outputs": [
        {
          "output_type": "stream",
          "name": "stdout",
          "text": [
            "Mounted at /content/drive\n"
          ]
        }
      ]
    },
    {
      "cell_type": "code",
      "source": [
        "cd /content/drive/MyDrive/"
      ],
      "metadata": {
        "colab": {
          "base_uri": "https://localhost:8080/"
        },
        "id": "3CIgxKiekZsJ",
        "outputId": "4edc5aa2-dc7f-4b4f-f3cc-304e4dfd2909"
      },
      "execution_count": null,
      "outputs": [
        {
          "output_type": "stream",
          "name": "stdout",
          "text": [
            "/content/drive/MyDrive\n"
          ]
        }
      ]
    },
    {
      "cell_type": "code",
      "source": [
        "import pandas as pd\n",
        "data=pd.read_csv(\"play_tennis_data.csv\", index_col=0)"
      ],
      "metadata": {
        "id": "Rb5j70fbkiHq"
      },
      "execution_count": null,
      "outputs": []
    },
    {
      "cell_type": "code",
      "source": [
        "!pip install MultiColumnLabelEncoder\n",
        "from MultiColumnLabelEncoder import MultiColumnLabelEncoder\n",
        "Mcle = MultiColumnLabelEncoder()\n",
        "data = Mcle.fit_transform(data)"
      ],
      "metadata": {
        "colab": {
          "base_uri": "https://localhost:8080/"
        },
        "id": "l4jd8DV2kjpD",
        "outputId": "54a5d733-93b2-4ad0-f7b7-8f707380e526"
      },
      "execution_count": null,
      "outputs": [
        {
          "output_type": "stream",
          "name": "stdout",
          "text": [
            "Collecting MultiColumnLabelEncoder\n",
            "  Downloading MultiColumnLabelEncoder-1.1.3-py3-none-any.whl (14 kB)\n",
            "Installing collected packages: MultiColumnLabelEncoder\n",
            "Successfully installed MultiColumnLabelEncoder-1.1.3\n"
          ]
        }
      ]
    },
    {
      "cell_type": "code",
      "source": [
        "target = data[\"play\"]\n",
        "features = data.drop('play', axis=1)\n",
        "target=target.values.tolist()\n",
        "features=features.values.tolist()\n",
        "print(features)"
      ],
      "metadata": {
        "colab": {
          "base_uri": "https://localhost:8080/"
        },
        "id": "2OpGxZzEklYp",
        "outputId": "71943b88-3bca-4436-e13f-0eedc507c4f5"
      },
      "execution_count": null,
      "outputs": [
        {
          "output_type": "stream",
          "name": "stdout",
          "text": [
            "[[0, 0, 0, 0], [0, 0, 0, 1], [1, 0, 0, 0], [2, 1, 0, 0], [2, 2, 1, 0], [2, 2, 1, 1], [1, 2, 1, 1], [0, 1, 0, 0], [0, 2, 1, 0], [2, 1, 1, 0], [0, 1, 1, 1], [1, 1, 0, 1], [1, 0, 1, 0], [2, 1, 0, 1]]\n"
          ]
        }
      ]
    },
    {
      "cell_type": "code",
      "source": [
        "data.head()"
      ],
      "metadata": {
        "colab": {
          "base_uri": "https://localhost:8080/",
          "height": 206
        },
        "id": "Gzd1z9kskndJ",
        "outputId": "422bc332-ee5d-4b8a-de64-7838d2de255d"
      },
      "execution_count": null,
      "outputs": [
        {
          "output_type": "execute_result",
          "data": {
            "text/plain": [
              "   outlook  temparature  humidity  wind  play\n",
              "1        0            0         0     0     0\n",
              "2        0            0         0     1     0\n",
              "3        1            0         0     0     1\n",
              "4        2            1         0     0     1\n",
              "5        2            2         1     0     1"
            ],
            "text/html": [
              "\n",
              "  <div id=\"df-f2b47cea-94b6-4456-84ad-5ed087f0bd83\" class=\"colab-df-container\">\n",
              "    <div>\n",
              "<style scoped>\n",
              "    .dataframe tbody tr th:only-of-type {\n",
              "        vertical-align: middle;\n",
              "    }\n",
              "\n",
              "    .dataframe tbody tr th {\n",
              "        vertical-align: top;\n",
              "    }\n",
              "\n",
              "    .dataframe thead th {\n",
              "        text-align: right;\n",
              "    }\n",
              "</style>\n",
              "<table border=\"1\" class=\"dataframe\">\n",
              "  <thead>\n",
              "    <tr style=\"text-align: right;\">\n",
              "      <th></th>\n",
              "      <th>outlook</th>\n",
              "      <th>temparature</th>\n",
              "      <th>humidity</th>\n",
              "      <th>wind</th>\n",
              "      <th>play</th>\n",
              "    </tr>\n",
              "  </thead>\n",
              "  <tbody>\n",
              "    <tr>\n",
              "      <th>1</th>\n",
              "      <td>0</td>\n",
              "      <td>0</td>\n",
              "      <td>0</td>\n",
              "      <td>0</td>\n",
              "      <td>0</td>\n",
              "    </tr>\n",
              "    <tr>\n",
              "      <th>2</th>\n",
              "      <td>0</td>\n",
              "      <td>0</td>\n",
              "      <td>0</td>\n",
              "      <td>1</td>\n",
              "      <td>0</td>\n",
              "    </tr>\n",
              "    <tr>\n",
              "      <th>3</th>\n",
              "      <td>1</td>\n",
              "      <td>0</td>\n",
              "      <td>0</td>\n",
              "      <td>0</td>\n",
              "      <td>1</td>\n",
              "    </tr>\n",
              "    <tr>\n",
              "      <th>4</th>\n",
              "      <td>2</td>\n",
              "      <td>1</td>\n",
              "      <td>0</td>\n",
              "      <td>0</td>\n",
              "      <td>1</td>\n",
              "    </tr>\n",
              "    <tr>\n",
              "      <th>5</th>\n",
              "      <td>2</td>\n",
              "      <td>2</td>\n",
              "      <td>1</td>\n",
              "      <td>0</td>\n",
              "      <td>1</td>\n",
              "    </tr>\n",
              "  </tbody>\n",
              "</table>\n",
              "</div>\n",
              "    <div class=\"colab-df-buttons\">\n",
              "\n",
              "  <div class=\"colab-df-container\">\n",
              "    <button class=\"colab-df-convert\" onclick=\"convertToInteractive('df-f2b47cea-94b6-4456-84ad-5ed087f0bd83')\"\n",
              "            title=\"Convert this dataframe to an interactive table.\"\n",
              "            style=\"display:none;\">\n",
              "\n",
              "  <svg xmlns=\"http://www.w3.org/2000/svg\" height=\"24px\" viewBox=\"0 -960 960 960\">\n",
              "    <path d=\"M120-120v-720h720v720H120Zm60-500h600v-160H180v160Zm220 220h160v-160H400v160Zm0 220h160v-160H400v160ZM180-400h160v-160H180v160Zm440 0h160v-160H620v160ZM180-180h160v-160H180v160Zm440 0h160v-160H620v160Z\"/>\n",
              "  </svg>\n",
              "    </button>\n",
              "\n",
              "  <style>\n",
              "    .colab-df-container {\n",
              "      display:flex;\n",
              "      gap: 12px;\n",
              "    }\n",
              "\n",
              "    .colab-df-convert {\n",
              "      background-color: #E8F0FE;\n",
              "      border: none;\n",
              "      border-radius: 50%;\n",
              "      cursor: pointer;\n",
              "      display: none;\n",
              "      fill: #1967D2;\n",
              "      height: 32px;\n",
              "      padding: 0 0 0 0;\n",
              "      width: 32px;\n",
              "    }\n",
              "\n",
              "    .colab-df-convert:hover {\n",
              "      background-color: #E2EBFA;\n",
              "      box-shadow: 0px 1px 2px rgba(60, 64, 67, 0.3), 0px 1px 3px 1px rgba(60, 64, 67, 0.15);\n",
              "      fill: #174EA6;\n",
              "    }\n",
              "\n",
              "    .colab-df-buttons div {\n",
              "      margin-bottom: 4px;\n",
              "    }\n",
              "\n",
              "    [theme=dark] .colab-df-convert {\n",
              "      background-color: #3B4455;\n",
              "      fill: #D2E3FC;\n",
              "    }\n",
              "\n",
              "    [theme=dark] .colab-df-convert:hover {\n",
              "      background-color: #434B5C;\n",
              "      box-shadow: 0px 1px 3px 1px rgba(0, 0, 0, 0.15);\n",
              "      filter: drop-shadow(0px 1px 2px rgba(0, 0, 0, 0.3));\n",
              "      fill: #FFFFFF;\n",
              "    }\n",
              "  </style>\n",
              "\n",
              "    <script>\n",
              "      const buttonEl =\n",
              "        document.querySelector('#df-f2b47cea-94b6-4456-84ad-5ed087f0bd83 button.colab-df-convert');\n",
              "      buttonEl.style.display =\n",
              "        google.colab.kernel.accessAllowed ? 'block' : 'none';\n",
              "\n",
              "      async function convertToInteractive(key) {\n",
              "        const element = document.querySelector('#df-f2b47cea-94b6-4456-84ad-5ed087f0bd83');\n",
              "        const dataTable =\n",
              "          await google.colab.kernel.invokeFunction('convertToInteractive',\n",
              "                                                    [key], {});\n",
              "        if (!dataTable) return;\n",
              "\n",
              "        const docLinkHtml = 'Like what you see? Visit the ' +\n",
              "          '<a target=\"_blank\" href=https://colab.research.google.com/notebooks/data_table.ipynb>data table notebook</a>'\n",
              "          + ' to learn more about interactive tables.';\n",
              "        element.innerHTML = '';\n",
              "        dataTable['output_type'] = 'display_data';\n",
              "        await google.colab.output.renderOutput(dataTable, element);\n",
              "        const docLink = document.createElement('div');\n",
              "        docLink.innerHTML = docLinkHtml;\n",
              "        element.appendChild(docLink);\n",
              "      }\n",
              "    </script>\n",
              "  </div>\n",
              "\n",
              "\n",
              "<div id=\"df-4c0876d5-733c-4f32-9f65-d1ef26eed3c2\">\n",
              "  <button class=\"colab-df-quickchart\" onclick=\"quickchart('df-4c0876d5-733c-4f32-9f65-d1ef26eed3c2')\"\n",
              "            title=\"Suggest charts.\"\n",
              "            style=\"display:none;\">\n",
              "\n",
              "<svg xmlns=\"http://www.w3.org/2000/svg\" height=\"24px\"viewBox=\"0 0 24 24\"\n",
              "     width=\"24px\">\n",
              "    <g>\n",
              "        <path d=\"M19 3H5c-1.1 0-2 .9-2 2v14c0 1.1.9 2 2 2h14c1.1 0 2-.9 2-2V5c0-1.1-.9-2-2-2zM9 17H7v-7h2v7zm4 0h-2V7h2v10zm4 0h-2v-4h2v4z\"/>\n",
              "    </g>\n",
              "</svg>\n",
              "  </button>\n",
              "\n",
              "<style>\n",
              "  .colab-df-quickchart {\n",
              "    background-color: #E8F0FE;\n",
              "    border: none;\n",
              "    border-radius: 50%;\n",
              "    cursor: pointer;\n",
              "    display: none;\n",
              "    fill: #1967D2;\n",
              "    height: 32px;\n",
              "    padding: 0 0 0 0;\n",
              "    width: 32px;\n",
              "  }\n",
              "\n",
              "  .colab-df-quickchart:hover {\n",
              "    background-color: #E2EBFA;\n",
              "    box-shadow: 0px 1px 2px rgba(60, 64, 67, 0.3), 0px 1px 3px 1px rgba(60, 64, 67, 0.15);\n",
              "    fill: #174EA6;\n",
              "  }\n",
              "\n",
              "  [theme=dark] .colab-df-quickchart {\n",
              "    background-color: #3B4455;\n",
              "    fill: #D2E3FC;\n",
              "  }\n",
              "\n",
              "  [theme=dark] .colab-df-quickchart:hover {\n",
              "    background-color: #434B5C;\n",
              "    box-shadow: 0px 1px 3px 1px rgba(0, 0, 0, 0.15);\n",
              "    filter: drop-shadow(0px 1px 2px rgba(0, 0, 0, 0.3));\n",
              "    fill: #FFFFFF;\n",
              "  }\n",
              "</style>\n",
              "\n",
              "  <script>\n",
              "    async function quickchart(key) {\n",
              "      const charts = await google.colab.kernel.invokeFunction(\n",
              "          'suggestCharts', [key], {});\n",
              "    }\n",
              "    (() => {\n",
              "      let quickchartButtonEl =\n",
              "        document.querySelector('#df-4c0876d5-733c-4f32-9f65-d1ef26eed3c2 button');\n",
              "      quickchartButtonEl.style.display =\n",
              "        google.colab.kernel.accessAllowed ? 'block' : 'none';\n",
              "    })();\n",
              "  </script>\n",
              "</div>\n",
              "    </div>\n",
              "  </div>\n"
            ]
          },
          "metadata": {},
          "execution_count": 6
        }
      ]
    },
    {
      "cell_type": "code",
      "source": [
        "import numpy as np\n",
        "\n",
        "class KNN_classification:\n",
        "    def __init__(self, k=3):\n",
        "        self.k = k\n",
        "\n",
        "    def fit(self, X_feature, y_target):\n",
        "        self.X_feature = X_feature\n",
        "        self.y_target = y_target\n",
        "\n",
        "    def manhattan_distance(self, x1, x2):\n",
        "      distance = 0\n",
        "      for i in range(len(x1)):\n",
        "        distance += abs(x1[i] - x2[i])\n",
        "      return distance\n",
        "\n",
        "    def generate_neighbors(self, p):\n",
        "      distances = []\n",
        "      for i in range(len(self.X_feature)):\n",
        "        q = self.X_feature[i]\n",
        "        class_name = self.y_target[i]\n",
        "        distance = self.manhattan_distance(p, q)\n",
        "        distances.append((distance, class_name))\n",
        "\n",
        "      distances.sort(key=lambda x: x[0])\n",
        "\n",
        "      neighbors=[]\n",
        "      for i in range(self.k):\n",
        "        neighbors.append(distances[i])\n",
        "      return neighbors\n",
        "\n",
        "    def majority_voting(self, neighbors):\n",
        "      classes = []\n",
        "      for i in neighbors:\n",
        "        classes.append(i[1])\n",
        "      unique = np.unique(classes)\n",
        "      counts = []\n",
        "\n",
        "      for item in unique:\n",
        "        count = 0\n",
        "        for c in classes:\n",
        "          if c == item:\n",
        "            count += 1\n",
        "        counts.append(count)\n",
        "\n",
        "      max_count = 0\n",
        "      #majority_class = None\n",
        "      for i in range(len(unique)):\n",
        "        if counts[i] > max_count:\n",
        "          max_count = counts[i]\n",
        "          majority_class = unique[i]\n",
        "\n",
        "      majority_class_count=[]\n",
        "      for i in range(len(unique)):\n",
        "        if counts[i] == max_count:\n",
        "         majority_class_count.append(unique[i])\n",
        "\n",
        "      return majority_class_count\n",
        "\n",
        "    def weighted_vote(self, neighbors):\n",
        "      weights = []\n",
        "      for distance, neighbor_class in neighbors:\n",
        "        weight = 1 / (distance*distance + 1e-9)\n",
        "        weights.append(weight)\n",
        "      total_class = np.zeros(2)\n",
        "      for i in range(len(neighbors)):\n",
        "        neighbor_class = neighbors[i][1]\n",
        "        #print(neighbor_class)\n",
        "        total_class[neighbor_class] += (weights[i]*1)\n",
        "      max_class=np.argmax(total_class)\n",
        "      return max_class\n",
        "\n",
        "    def predict(self, test_data):\n",
        "        predictions = []\n",
        "        neighbors = self.generate_neighbors(test_data)\n",
        "        major_classes = self.majority_voting(neighbors)\n",
        "\n",
        "        if len(major_classes) == 1:\n",
        "          predictions.append(major_classes[0])\n",
        "        else:\n",
        "          weighted_class = self.weighted_vote(neighbors)\n",
        "          predictions.append(weighted_class)\n",
        "        return predictions\n",
        "\n",
        "    def accuracy(self, X_test, y_test):\n",
        "        y_pred = self.predict(X_test)\n",
        "        accuracy = np.mean(y_pred == y_test)\n",
        "        return accuracy\n",
        "\n"
      ],
      "metadata": {
        "id": "nTFhSJ4dlDzh"
      },
      "execution_count": null,
      "outputs": []
    },
    {
      "cell_type": "code",
      "source": [
        "X_feature = features\n",
        "y_target = target\n",
        "\n",
        "test_data = np.array([1,0,0,0])\n",
        "test_target = np.array([1])"
      ],
      "metadata": {
        "id": "TKWWnivi0S8C"
      },
      "execution_count": null,
      "outputs": []
    },
    {
      "cell_type": "code",
      "source": [
        "knn_model = KNN_classification(k=4)\n",
        "knn_model.fit(X_feature, y_target)"
      ],
      "metadata": {
        "id": "Pk9DTnU80aVR"
      },
      "execution_count": null,
      "outputs": []
    },
    {
      "cell_type": "code",
      "source": [
        "predictions=knn_model.predict(test_data)\n",
        "if predictions[0]==1:\n",
        "  print(\"YES\")\n",
        "else:\n",
        "  print(\"NO\")\n",
        "\n",
        "accuracy = knn_model.accuracy(test_data, test_target)\n",
        "print(\"Accuracy:\", accuracy)\n"
      ],
      "metadata": {
        "colab": {
          "base_uri": "https://localhost:8080/"
        },
        "id": "4ePm37eA0dgZ",
        "outputId": "612c5752-4985-4cbd-9aa1-54ba7143209e"
      },
      "execution_count": null,
      "outputs": [
        {
          "output_type": "stream",
          "name": "stdout",
          "text": [
            "YES\n",
            "Accuracy: 1.0\n"
          ]
        }
      ]
    }
  ]
}